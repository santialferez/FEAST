{
 "cells": [
  {
   "cell_type": "code",
   "execution_count": 1,
   "metadata": {},
   "outputs": [],
   "source": [
    "from sklearn import datasets"
   ]
  },
  {
   "cell_type": "code",
   "execution_count": 2,
   "metadata": {},
   "outputs": [],
   "source": [
    "iris = datasets.load_iris()\n",
    "X = iris.data\n",
    "y = iris.target"
   ]
  },
  {
   "cell_type": "code",
   "execution_count": 3,
   "metadata": {},
   "outputs": [],
   "source": [
    "from feast import feast"
   ]
  },
  {
   "cell_type": "code",
   "execution_count": 4,
   "metadata": {},
   "outputs": [],
   "source": [
    "selector = feast(3,criterion='CMIM')"
   ]
  },
  {
   "cell_type": "code",
   "execution_count": 5,
   "metadata": {},
   "outputs": [
    {
     "data": {
      "text/plain": [
       "feast(criterion='CMIM', num_of_features=3, scale_method=None)"
      ]
     },
     "execution_count": 5,
     "metadata": {},
     "output_type": "execute_result"
    }
   ],
   "source": [
    "selector.fit(X,y)"
   ]
  },
  {
   "cell_type": "code",
   "execution_count": 6,
   "metadata": {
    "scrolled": true
   },
   "outputs": [
    {
     "data": {
      "text/plain": [
       "[3, 2, 0]"
      ]
     },
     "execution_count": 6,
     "metadata": {},
     "output_type": "execute_result"
    }
   ],
   "source": [
    "selector.feature_indexes"
   ]
  },
  {
   "cell_type": "code",
   "execution_count": 9,
   "metadata": {},
   "outputs": [],
   "source": [
    "from sklearn.discriminant_analysis import LinearDiscriminantAnalysis\n",
    "from sklearn.pipeline import make_pipeline\n",
    "from sklearn.model_selection import cross_val_score"
   ]
  },
  {
   "cell_type": "code",
   "execution_count": 14,
   "metadata": {},
   "outputs": [
    {
     "data": {
      "text/plain": [
       "array([ 1.        ,  1.        ,  0.96666667,  0.9       ,  1.        ])"
      ]
     },
     "execution_count": 14,
     "metadata": {},
     "output_type": "execute_result"
    }
   ],
   "source": [
    "pipe = make_pipeline(selector, LinearDiscriminantAnalysis())\n",
    "\n",
    "cross_val_score(pipe,X,y,cv=5)\n"
   ]
  },
  {
   "cell_type": "code",
   "execution_count": 6,
   "metadata": {},
   "outputs": [
    {
     "data": {
      "text/plain": [
       "[2, 3, 1]"
      ]
     },
     "execution_count": 6,
     "metadata": {},
     "output_type": "execute_result"
    }
   ],
   "source": [
    "selector.feature_indexes"
   ]
  },
  {
   "cell_type": "code",
   "execution_count": 5,
   "metadata": {},
   "outputs": [
    {
     "data": {
      "text/plain": [
       "array([[ 1.4,  0.2,  3.5],\n",
       "       [ 1.4,  0.2,  3. ],\n",
       "       [ 1.3,  0.2,  3.2],\n",
       "       [ 1.5,  0.2,  3.1],\n",
       "       [ 1.4,  0.2,  3.6],\n",
       "       [ 1.7,  0.4,  3.9],\n",
       "       [ 1.4,  0.3,  3.4],\n",
       "       [ 1.5,  0.2,  3.4],\n",
       "       [ 1.4,  0.2,  2.9],\n",
       "       [ 1.5,  0.1,  3.1],\n",
       "       [ 1.5,  0.2,  3.7],\n",
       "       [ 1.6,  0.2,  3.4],\n",
       "       [ 1.4,  0.1,  3. ],\n",
       "       [ 1.1,  0.1,  3. ],\n",
       "       [ 1.2,  0.2,  4. ],\n",
       "       [ 1.5,  0.4,  4.4],\n",
       "       [ 1.3,  0.4,  3.9],\n",
       "       [ 1.4,  0.3,  3.5],\n",
       "       [ 1.7,  0.3,  3.8],\n",
       "       [ 1.5,  0.3,  3.8],\n",
       "       [ 1.7,  0.2,  3.4],\n",
       "       [ 1.5,  0.4,  3.7],\n",
       "       [ 1. ,  0.2,  3.6],\n",
       "       [ 1.7,  0.5,  3.3],\n",
       "       [ 1.9,  0.2,  3.4],\n",
       "       [ 1.6,  0.2,  3. ],\n",
       "       [ 1.6,  0.4,  3.4],\n",
       "       [ 1.5,  0.2,  3.5],\n",
       "       [ 1.4,  0.2,  3.4],\n",
       "       [ 1.6,  0.2,  3.2],\n",
       "       [ 1.6,  0.2,  3.1],\n",
       "       [ 1.5,  0.4,  3.4],\n",
       "       [ 1.5,  0.1,  4.1],\n",
       "       [ 1.4,  0.2,  4.2],\n",
       "       [ 1.5,  0.1,  3.1],\n",
       "       [ 1.2,  0.2,  3.2],\n",
       "       [ 1.3,  0.2,  3.5],\n",
       "       [ 1.5,  0.1,  3.1],\n",
       "       [ 1.3,  0.2,  3. ],\n",
       "       [ 1.5,  0.2,  3.4],\n",
       "       [ 1.3,  0.3,  3.5],\n",
       "       [ 1.3,  0.3,  2.3],\n",
       "       [ 1.3,  0.2,  3.2],\n",
       "       [ 1.6,  0.6,  3.5],\n",
       "       [ 1.9,  0.4,  3.8],\n",
       "       [ 1.4,  0.3,  3. ],\n",
       "       [ 1.6,  0.2,  3.8],\n",
       "       [ 1.4,  0.2,  3.2],\n",
       "       [ 1.5,  0.2,  3.7],\n",
       "       [ 1.4,  0.2,  3.3],\n",
       "       [ 4.7,  1.4,  3.2],\n",
       "       [ 4.5,  1.5,  3.2],\n",
       "       [ 4.9,  1.5,  3.1],\n",
       "       [ 4. ,  1.3,  2.3],\n",
       "       [ 4.6,  1.5,  2.8],\n",
       "       [ 4.5,  1.3,  2.8],\n",
       "       [ 4.7,  1.6,  3.3],\n",
       "       [ 3.3,  1. ,  2.4],\n",
       "       [ 4.6,  1.3,  2.9],\n",
       "       [ 3.9,  1.4,  2.7],\n",
       "       [ 3.5,  1. ,  2. ],\n",
       "       [ 4.2,  1.5,  3. ],\n",
       "       [ 4. ,  1. ,  2.2],\n",
       "       [ 4.7,  1.4,  2.9],\n",
       "       [ 3.6,  1.3,  2.9],\n",
       "       [ 4.4,  1.4,  3.1],\n",
       "       [ 4.5,  1.5,  3. ],\n",
       "       [ 4.1,  1. ,  2.7],\n",
       "       [ 4.5,  1.5,  2.2],\n",
       "       [ 3.9,  1.1,  2.5],\n",
       "       [ 4.8,  1.8,  3.2],\n",
       "       [ 4. ,  1.3,  2.8],\n",
       "       [ 4.9,  1.5,  2.5],\n",
       "       [ 4.7,  1.2,  2.8],\n",
       "       [ 4.3,  1.3,  2.9],\n",
       "       [ 4.4,  1.4,  3. ],\n",
       "       [ 4.8,  1.4,  2.8],\n",
       "       [ 5. ,  1.7,  3. ],\n",
       "       [ 4.5,  1.5,  2.9],\n",
       "       [ 3.5,  1. ,  2.6],\n",
       "       [ 3.8,  1.1,  2.4],\n",
       "       [ 3.7,  1. ,  2.4],\n",
       "       [ 3.9,  1.2,  2.7],\n",
       "       [ 5.1,  1.6,  2.7],\n",
       "       [ 4.5,  1.5,  3. ],\n",
       "       [ 4.5,  1.6,  3.4],\n",
       "       [ 4.7,  1.5,  3.1],\n",
       "       [ 4.4,  1.3,  2.3],\n",
       "       [ 4.1,  1.3,  3. ],\n",
       "       [ 4. ,  1.3,  2.5],\n",
       "       [ 4.4,  1.2,  2.6],\n",
       "       [ 4.6,  1.4,  3. ],\n",
       "       [ 4. ,  1.2,  2.6],\n",
       "       [ 3.3,  1. ,  2.3],\n",
       "       [ 4.2,  1.3,  2.7],\n",
       "       [ 4.2,  1.2,  3. ],\n",
       "       [ 4.2,  1.3,  2.9],\n",
       "       [ 4.3,  1.3,  2.9],\n",
       "       [ 3. ,  1.1,  2.5],\n",
       "       [ 4.1,  1.3,  2.8],\n",
       "       [ 6. ,  2.5,  3.3],\n",
       "       [ 5.1,  1.9,  2.7],\n",
       "       [ 5.9,  2.1,  3. ],\n",
       "       [ 5.6,  1.8,  2.9],\n",
       "       [ 5.8,  2.2,  3. ],\n",
       "       [ 6.6,  2.1,  3. ],\n",
       "       [ 4.5,  1.7,  2.5],\n",
       "       [ 6.3,  1.8,  2.9],\n",
       "       [ 5.8,  1.8,  2.5],\n",
       "       [ 6.1,  2.5,  3.6],\n",
       "       [ 5.1,  2. ,  3.2],\n",
       "       [ 5.3,  1.9,  2.7],\n",
       "       [ 5.5,  2.1,  3. ],\n",
       "       [ 5. ,  2. ,  2.5],\n",
       "       [ 5.1,  2.4,  2.8],\n",
       "       [ 5.3,  2.3,  3.2],\n",
       "       [ 5.5,  1.8,  3. ],\n",
       "       [ 6.7,  2.2,  3.8],\n",
       "       [ 6.9,  2.3,  2.6],\n",
       "       [ 5. ,  1.5,  2.2],\n",
       "       [ 5.7,  2.3,  3.2],\n",
       "       [ 4.9,  2. ,  2.8],\n",
       "       [ 6.7,  2. ,  2.8],\n",
       "       [ 4.9,  1.8,  2.7],\n",
       "       [ 5.7,  2.1,  3.3],\n",
       "       [ 6. ,  1.8,  3.2],\n",
       "       [ 4.8,  1.8,  2.8],\n",
       "       [ 4.9,  1.8,  3. ],\n",
       "       [ 5.6,  2.1,  2.8],\n",
       "       [ 5.8,  1.6,  3. ],\n",
       "       [ 6.1,  1.9,  2.8],\n",
       "       [ 6.4,  2. ,  3.8],\n",
       "       [ 5.6,  2.2,  2.8],\n",
       "       [ 5.1,  1.5,  2.8],\n",
       "       [ 5.6,  1.4,  2.6],\n",
       "       [ 6.1,  2.3,  3. ],\n",
       "       [ 5.6,  2.4,  3.4],\n",
       "       [ 5.5,  1.8,  3.1],\n",
       "       [ 4.8,  1.8,  3. ],\n",
       "       [ 5.4,  2.1,  3.1],\n",
       "       [ 5.6,  2.4,  3.1],\n",
       "       [ 5.1,  2.3,  3.1],\n",
       "       [ 5.1,  1.9,  2.7],\n",
       "       [ 5.9,  2.3,  3.2],\n",
       "       [ 5.7,  2.5,  3.3],\n",
       "       [ 5.2,  2.3,  3. ],\n",
       "       [ 5. ,  1.9,  2.5],\n",
       "       [ 5.2,  2. ,  3. ],\n",
       "       [ 5.4,  2.3,  3.4],\n",
       "       [ 5.1,  1.8,  3. ]])"
      ]
     },
     "execution_count": 5,
     "metadata": {},
     "output_type": "execute_result"
    }
   ],
   "source": [
    "selector.fit_transform(X,y)"
   ]
  },
  {
   "cell_type": "code",
   "execution_count": 5,
   "metadata": {},
   "outputs": [
    {
     "data": {
      "text/plain": [
       "array([[ 1.4,  0.2,  5.1],\n",
       "       [ 1.4,  0.2,  4.9],\n",
       "       [ 1.3,  0.2,  4.7],\n",
       "       [ 1.5,  0.2,  4.6],\n",
       "       [ 1.4,  0.2,  5. ],\n",
       "       [ 1.7,  0.4,  5.4],\n",
       "       [ 1.4,  0.3,  4.6],\n",
       "       [ 1.5,  0.2,  5. ],\n",
       "       [ 1.4,  0.2,  4.4],\n",
       "       [ 1.5,  0.1,  4.9],\n",
       "       [ 1.5,  0.2,  5.4],\n",
       "       [ 1.6,  0.2,  4.8],\n",
       "       [ 1.4,  0.1,  4.8],\n",
       "       [ 1.1,  0.1,  4.3],\n",
       "       [ 1.2,  0.2,  5.8],\n",
       "       [ 1.5,  0.4,  5.7],\n",
       "       [ 1.3,  0.4,  5.4],\n",
       "       [ 1.4,  0.3,  5.1],\n",
       "       [ 1.7,  0.3,  5.7],\n",
       "       [ 1.5,  0.3,  5.1],\n",
       "       [ 1.7,  0.2,  5.4],\n",
       "       [ 1.5,  0.4,  5.1],\n",
       "       [ 1. ,  0.2,  4.6],\n",
       "       [ 1.7,  0.5,  5.1],\n",
       "       [ 1.9,  0.2,  4.8],\n",
       "       [ 1.6,  0.2,  5. ],\n",
       "       [ 1.6,  0.4,  5. ],\n",
       "       [ 1.5,  0.2,  5.2],\n",
       "       [ 1.4,  0.2,  5.2],\n",
       "       [ 1.6,  0.2,  4.7],\n",
       "       [ 1.6,  0.2,  4.8],\n",
       "       [ 1.5,  0.4,  5.4],\n",
       "       [ 1.5,  0.1,  5.2],\n",
       "       [ 1.4,  0.2,  5.5],\n",
       "       [ 1.5,  0.1,  4.9],\n",
       "       [ 1.2,  0.2,  5. ],\n",
       "       [ 1.3,  0.2,  5.5],\n",
       "       [ 1.5,  0.1,  4.9],\n",
       "       [ 1.3,  0.2,  4.4],\n",
       "       [ 1.5,  0.2,  5.1],\n",
       "       [ 1.3,  0.3,  5. ],\n",
       "       [ 1.3,  0.3,  4.5],\n",
       "       [ 1.3,  0.2,  4.4],\n",
       "       [ 1.6,  0.6,  5. ],\n",
       "       [ 1.9,  0.4,  5.1],\n",
       "       [ 1.4,  0.3,  4.8],\n",
       "       [ 1.6,  0.2,  5.1],\n",
       "       [ 1.4,  0.2,  4.6],\n",
       "       [ 1.5,  0.2,  5.3],\n",
       "       [ 1.4,  0.2,  5. ],\n",
       "       [ 4.7,  1.4,  7. ],\n",
       "       [ 4.5,  1.5,  6.4],\n",
       "       [ 4.9,  1.5,  6.9],\n",
       "       [ 4. ,  1.3,  5.5],\n",
       "       [ 4.6,  1.5,  6.5],\n",
       "       [ 4.5,  1.3,  5.7],\n",
       "       [ 4.7,  1.6,  6.3],\n",
       "       [ 3.3,  1. ,  4.9],\n",
       "       [ 4.6,  1.3,  6.6],\n",
       "       [ 3.9,  1.4,  5.2],\n",
       "       [ 3.5,  1. ,  5. ],\n",
       "       [ 4.2,  1.5,  5.9],\n",
       "       [ 4. ,  1. ,  6. ],\n",
       "       [ 4.7,  1.4,  6.1],\n",
       "       [ 3.6,  1.3,  5.6],\n",
       "       [ 4.4,  1.4,  6.7],\n",
       "       [ 4.5,  1.5,  5.6],\n",
       "       [ 4.1,  1. ,  5.8],\n",
       "       [ 4.5,  1.5,  6.2],\n",
       "       [ 3.9,  1.1,  5.6],\n",
       "       [ 4.8,  1.8,  5.9],\n",
       "       [ 4. ,  1.3,  6.1],\n",
       "       [ 4.9,  1.5,  6.3],\n",
       "       [ 4.7,  1.2,  6.1],\n",
       "       [ 4.3,  1.3,  6.4],\n",
       "       [ 4.4,  1.4,  6.6],\n",
       "       [ 4.8,  1.4,  6.8],\n",
       "       [ 5. ,  1.7,  6.7],\n",
       "       [ 4.5,  1.5,  6. ],\n",
       "       [ 3.5,  1. ,  5.7],\n",
       "       [ 3.8,  1.1,  5.5],\n",
       "       [ 3.7,  1. ,  5.5],\n",
       "       [ 3.9,  1.2,  5.8],\n",
       "       [ 5.1,  1.6,  6. ],\n",
       "       [ 4.5,  1.5,  5.4],\n",
       "       [ 4.5,  1.6,  6. ],\n",
       "       [ 4.7,  1.5,  6.7],\n",
       "       [ 4.4,  1.3,  6.3],\n",
       "       [ 4.1,  1.3,  5.6],\n",
       "       [ 4. ,  1.3,  5.5],\n",
       "       [ 4.4,  1.2,  5.5],\n",
       "       [ 4.6,  1.4,  6.1],\n",
       "       [ 4. ,  1.2,  5.8],\n",
       "       [ 3.3,  1. ,  5. ],\n",
       "       [ 4.2,  1.3,  5.6],\n",
       "       [ 4.2,  1.2,  5.7],\n",
       "       [ 4.2,  1.3,  5.7],\n",
       "       [ 4.3,  1.3,  6.2],\n",
       "       [ 3. ,  1.1,  5.1],\n",
       "       [ 4.1,  1.3,  5.7],\n",
       "       [ 6. ,  2.5,  6.3],\n",
       "       [ 5.1,  1.9,  5.8],\n",
       "       [ 5.9,  2.1,  7.1],\n",
       "       [ 5.6,  1.8,  6.3],\n",
       "       [ 5.8,  2.2,  6.5],\n",
       "       [ 6.6,  2.1,  7.6],\n",
       "       [ 4.5,  1.7,  4.9],\n",
       "       [ 6.3,  1.8,  7.3],\n",
       "       [ 5.8,  1.8,  6.7],\n",
       "       [ 6.1,  2.5,  7.2],\n",
       "       [ 5.1,  2. ,  6.5],\n",
       "       [ 5.3,  1.9,  6.4],\n",
       "       [ 5.5,  2.1,  6.8],\n",
       "       [ 5. ,  2. ,  5.7],\n",
       "       [ 5.1,  2.4,  5.8],\n",
       "       [ 5.3,  2.3,  6.4],\n",
       "       [ 5.5,  1.8,  6.5],\n",
       "       [ 6.7,  2.2,  7.7],\n",
       "       [ 6.9,  2.3,  7.7],\n",
       "       [ 5. ,  1.5,  6. ],\n",
       "       [ 5.7,  2.3,  6.9],\n",
       "       [ 4.9,  2. ,  5.6],\n",
       "       [ 6.7,  2. ,  7.7],\n",
       "       [ 4.9,  1.8,  6.3],\n",
       "       [ 5.7,  2.1,  6.7],\n",
       "       [ 6. ,  1.8,  7.2],\n",
       "       [ 4.8,  1.8,  6.2],\n",
       "       [ 4.9,  1.8,  6.1],\n",
       "       [ 5.6,  2.1,  6.4],\n",
       "       [ 5.8,  1.6,  7.2],\n",
       "       [ 6.1,  1.9,  7.4],\n",
       "       [ 6.4,  2. ,  7.9],\n",
       "       [ 5.6,  2.2,  6.4],\n",
       "       [ 5.1,  1.5,  6.3],\n",
       "       [ 5.6,  1.4,  6.1],\n",
       "       [ 6.1,  2.3,  7.7],\n",
       "       [ 5.6,  2.4,  6.3],\n",
       "       [ 5.5,  1.8,  6.4],\n",
       "       [ 4.8,  1.8,  6. ],\n",
       "       [ 5.4,  2.1,  6.9],\n",
       "       [ 5.6,  2.4,  6.7],\n",
       "       [ 5.1,  2.3,  6.9],\n",
       "       [ 5.1,  1.9,  5.8],\n",
       "       [ 5.9,  2.3,  6.8],\n",
       "       [ 5.7,  2.5,  6.7],\n",
       "       [ 5.2,  2.3,  6.7],\n",
       "       [ 5. ,  1.9,  6.3],\n",
       "       [ 5.2,  2. ,  6.5],\n",
       "       [ 5.4,  2.3,  6.2],\n",
       "       [ 5.1,  1.8,  5.9]])"
      ]
     },
     "execution_count": 5,
     "metadata": {},
     "output_type": "execute_result"
    }
   ],
   "source": [
    "selector.transform(X)"
   ]
  },
  {
   "cell_type": "code",
   "execution_count": 68,
   "metadata": {},
   "outputs": [],
   "source": [
    "from JMI import JMI"
   ]
  },
  {
   "cell_type": "code",
   "execution_count": 69,
   "metadata": {},
   "outputs": [],
   "source": [
    "selector = JMI(3)"
   ]
  },
  {
   "cell_type": "code",
   "execution_count": 70,
   "metadata": {},
   "outputs": [],
   "source": [
    "selector.fit(X,y)"
   ]
  },
  {
   "cell_type": "code",
   "execution_count": 20,
   "metadata": {},
   "outputs": [
    {
     "data": {
      "text/plain": [
       "[2, 3, 0]"
      ]
     },
     "execution_count": 20,
     "metadata": {},
     "output_type": "execute_result"
    }
   ],
   "source": [
    "selector.feature_indexes"
   ]
  },
  {
   "cell_type": "code",
   "execution_count": 6,
   "metadata": {},
   "outputs": [],
   "source": [
    "from mRMR_D import mRMR_D"
   ]
  },
  {
   "cell_type": "code",
   "execution_count": 7,
   "metadata": {},
   "outputs": [
    {
     "data": {
      "text/plain": [
       "[2, 3, 1]"
      ]
     },
     "execution_count": 7,
     "metadata": {},
     "output_type": "execute_result"
    }
   ],
   "source": [
    "selector = mRMR_D(3)\n",
    "selector.fit(X,y)\n",
    "selector.feature_indexes"
   ]
  },
  {
   "cell_type": "code",
   "execution_count": 25,
   "metadata": {},
   "outputs": [],
   "source": [
    "a= [1,2,3]"
   ]
  },
  {
   "cell_type": "code",
   "execution_count": 27,
   "metadata": {},
   "outputs": [],
   "source": [
    "a.reverse()"
   ]
  },
  {
   "cell_type": "code",
   "execution_count": 28,
   "metadata": {},
   "outputs": [
    {
     "data": {
      "text/plain": [
       "[3, 2, 1]"
      ]
     },
     "execution_count": 28,
     "metadata": {},
     "output_type": "execute_result"
    }
   ],
   "source": [
    "a"
   ]
  },
  {
   "cell_type": "code",
   "execution_count": 29,
   "metadata": {},
   "outputs": [],
   "source": [
    "name = 'reverse'"
   ]
  },
  {
   "cell_type": "code",
   "execution_count": 32,
   "metadata": {},
   "outputs": [],
   "source": [
    "getattr(a,name)()"
   ]
  },
  {
   "cell_type": "code",
   "execution_count": 33,
   "metadata": {},
   "outputs": [
    {
     "data": {
      "text/plain": [
       "[1, 2, 3]"
      ]
     },
     "execution_count": 33,
     "metadata": {},
     "output_type": "execute_result"
    }
   ],
   "source": [
    "a"
   ]
  },
  {
   "cell_type": "code",
   "execution_count": 1,
   "metadata": {},
   "outputs": [],
   "source": [
    "import pandas as pd"
   ]
  },
  {
   "cell_type": "code",
   "execution_count": 2,
   "metadata": {},
   "outputs": [
    {
     "data": {
      "text/html": [
       "<div>\n",
       "<style scoped>\n",
       "    .dataframe tbody tr th:only-of-type {\n",
       "        vertical-align: middle;\n",
       "    }\n",
       "\n",
       "    .dataframe tbody tr th {\n",
       "        vertical-align: top;\n",
       "    }\n",
       "\n",
       "    .dataframe thead th {\n",
       "        text-align: right;\n",
       "    }\n",
       "</style>\n",
       "<table border=\"1\" class=\"dataframe\">\n",
       "  <thead>\n",
       "    <tr style=\"text-align: right;\">\n",
       "      <th></th>\n",
       "      <th>identidad</th>\n",
       "      <th>tipoCelula</th>\n",
       "      <th>identidadnombre</th>\n",
       "      <th>idtipocelulasbase</th>\n",
       "      <th>idhistoria</th>\n",
       "      <th>fecha</th>\n",
       "      <th>ruta</th>\n",
       "      <th>archivos</th>\n",
       "      <th>Hairiness</th>\n",
       "      <th>Area_cel</th>\n",
       "      <th>...</th>\n",
       "      <th>LBP_l_1</th>\n",
       "      <th>LBP_l_2</th>\n",
       "      <th>LBP_l_3</th>\n",
       "      <th>LBP_l_4</th>\n",
       "      <th>LBP_l_5</th>\n",
       "      <th>LBP_l_6</th>\n",
       "      <th>LBP_l_7</th>\n",
       "      <th>LBP_l_8</th>\n",
       "      <th>LBP_l_9</th>\n",
       "      <th>LBP_l_10</th>\n",
       "    </tr>\n",
       "  </thead>\n",
       "  <tbody>\n",
       "    <tr>\n",
       "      <th>0</th>\n",
       "      <td>LAL-B_NO_BURKITT</td>\n",
       "      <td>BLAST</td>\n",
       "      <td>LAL-B_NO_BURKITT</td>\n",
       "      <td>BLAST</td>\n",
       "      <td>4058961</td>\n",
       "      <td>2014-12-19</td>\n",
       "      <td>CELLAVISION/BLASTS/LAL-B_NO_BURKITT/4058961/19...</td>\n",
       "      <td>BL_10914085.jpg</td>\n",
       "      <td>157</td>\n",
       "      <td>10587</td>\n",
       "      <td>...</td>\n",
       "      <td>0.031118</td>\n",
       "      <td>0.066436</td>\n",
       "      <td>0.062959</td>\n",
       "      <td>0.202413</td>\n",
       "      <td>0.296715</td>\n",
       "      <td>0.303578</td>\n",
       "      <td>0.125533</td>\n",
       "      <td>0.102993</td>\n",
       "      <td>0.855646</td>\n",
       "      <td>0.104824</td>\n",
       "    </tr>\n",
       "    <tr>\n",
       "      <th>1</th>\n",
       "      <td>LAL-B_NO_BURKITT</td>\n",
       "      <td>BLAST</td>\n",
       "      <td>LAL-B_NO_BURKITT</td>\n",
       "      <td>BLAST</td>\n",
       "      <td>4058961</td>\n",
       "      <td>2014-12-19</td>\n",
       "      <td>CELLAVISION/BLASTS/LAL-B_NO_BURKITT/4058961/19...</td>\n",
       "      <td>BL_10914086.jpg</td>\n",
       "      <td>107</td>\n",
       "      <td>12194</td>\n",
       "      <td>...</td>\n",
       "      <td>0.020382</td>\n",
       "      <td>0.043388</td>\n",
       "      <td>0.039197</td>\n",
       "      <td>0.150436</td>\n",
       "      <td>0.220012</td>\n",
       "      <td>0.258615</td>\n",
       "      <td>0.090637</td>\n",
       "      <td>0.072592</td>\n",
       "      <td>0.916432</td>\n",
       "      <td>0.070108</td>\n",
       "    </tr>\n",
       "    <tr>\n",
       "      <th>2</th>\n",
       "      <td>LAL-B_NO_BURKITT</td>\n",
       "      <td>BLAST</td>\n",
       "      <td>LAL-B_NO_BURKITT</td>\n",
       "      <td>BLAST</td>\n",
       "      <td>4058961</td>\n",
       "      <td>2014-12-19</td>\n",
       "      <td>CELLAVISION/BLASTS/LAL-B_NO_BURKITT/4058961/19...</td>\n",
       "      <td>BL_10914091.jpg</td>\n",
       "      <td>34</td>\n",
       "      <td>9492</td>\n",
       "      <td>...</td>\n",
       "      <td>0.033523</td>\n",
       "      <td>0.072711</td>\n",
       "      <td>0.066965</td>\n",
       "      <td>0.207210</td>\n",
       "      <td>0.312713</td>\n",
       "      <td>0.276626</td>\n",
       "      <td>0.130965</td>\n",
       "      <td>0.116620</td>\n",
       "      <td>0.853279</td>\n",
       "      <td>0.114105</td>\n",
       "    </tr>\n",
       "    <tr>\n",
       "      <th>3</th>\n",
       "      <td>LAL-B_NO_BURKITT</td>\n",
       "      <td>BLAST</td>\n",
       "      <td>LAL-B_NO_BURKITT</td>\n",
       "      <td>BLAST</td>\n",
       "      <td>4058961</td>\n",
       "      <td>2014-12-19</td>\n",
       "      <td>CELLAVISION/BLASTS/LAL-B_NO_BURKITT/4058961/19...</td>\n",
       "      <td>BL_10914093.jpg</td>\n",
       "      <td>196</td>\n",
       "      <td>16039</td>\n",
       "      <td>...</td>\n",
       "      <td>0.028311</td>\n",
       "      <td>0.049726</td>\n",
       "      <td>0.061994</td>\n",
       "      <td>0.200326</td>\n",
       "      <td>0.330187</td>\n",
       "      <td>0.245903</td>\n",
       "      <td>0.103486</td>\n",
       "      <td>0.073946</td>\n",
       "      <td>0.872671</td>\n",
       "      <td>0.074351</td>\n",
       "    </tr>\n",
       "    <tr>\n",
       "      <th>4</th>\n",
       "      <td>LAL-B_NO_BURKITT</td>\n",
       "      <td>BLAST</td>\n",
       "      <td>LAL-B_NO_BURKITT</td>\n",
       "      <td>BLAST</td>\n",
       "      <td>4058961</td>\n",
       "      <td>2014-12-19</td>\n",
       "      <td>CELLAVISION/BLASTS/LAL-B_NO_BURKITT/4058961/19...</td>\n",
       "      <td>BL_10914106.jpg</td>\n",
       "      <td>7</td>\n",
       "      <td>12218</td>\n",
       "      <td>...</td>\n",
       "      <td>0.018260</td>\n",
       "      <td>0.038281</td>\n",
       "      <td>0.037338</td>\n",
       "      <td>0.124455</td>\n",
       "      <td>0.200663</td>\n",
       "      <td>0.215513</td>\n",
       "      <td>0.073235</td>\n",
       "      <td>0.061577</td>\n",
       "      <td>0.939213</td>\n",
       "      <td>0.057705</td>\n",
       "    </tr>\n",
       "  </tbody>\n",
       "</table>\n",
       "<p>5 rows × 2875 columns</p>\n",
       "</div>"
      ],
      "text/plain": [
       "          identidad tipoCelula   identidadnombre idtipocelulasbase idhistoria  \\\n",
       "0  LAL-B_NO_BURKITT      BLAST  LAL-B_NO_BURKITT             BLAST    4058961   \n",
       "1  LAL-B_NO_BURKITT      BLAST  LAL-B_NO_BURKITT             BLAST    4058961   \n",
       "2  LAL-B_NO_BURKITT      BLAST  LAL-B_NO_BURKITT             BLAST    4058961   \n",
       "3  LAL-B_NO_BURKITT      BLAST  LAL-B_NO_BURKITT             BLAST    4058961   \n",
       "4  LAL-B_NO_BURKITT      BLAST  LAL-B_NO_BURKITT             BLAST    4058961   \n",
       "\n",
       "        fecha                                               ruta  \\\n",
       "0  2014-12-19  CELLAVISION/BLASTS/LAL-B_NO_BURKITT/4058961/19...   \n",
       "1  2014-12-19  CELLAVISION/BLASTS/LAL-B_NO_BURKITT/4058961/19...   \n",
       "2  2014-12-19  CELLAVISION/BLASTS/LAL-B_NO_BURKITT/4058961/19...   \n",
       "3  2014-12-19  CELLAVISION/BLASTS/LAL-B_NO_BURKITT/4058961/19...   \n",
       "4  2014-12-19  CELLAVISION/BLASTS/LAL-B_NO_BURKITT/4058961/19...   \n",
       "\n",
       "          archivos  Hairiness  Area_cel    ...      LBP_l_1   LBP_l_2  \\\n",
       "0  BL_10914085.jpg        157     10587    ...     0.031118  0.066436   \n",
       "1  BL_10914086.jpg        107     12194    ...     0.020382  0.043388   \n",
       "2  BL_10914091.jpg         34      9492    ...     0.033523  0.072711   \n",
       "3  BL_10914093.jpg        196     16039    ...     0.028311  0.049726   \n",
       "4  BL_10914106.jpg          7     12218    ...     0.018260  0.038281   \n",
       "\n",
       "    LBP_l_3   LBP_l_4   LBP_l_5   LBP_l_6   LBP_l_7   LBP_l_8   LBP_l_9  \\\n",
       "0  0.062959  0.202413  0.296715  0.303578  0.125533  0.102993  0.855646   \n",
       "1  0.039197  0.150436  0.220012  0.258615  0.090637  0.072592  0.916432   \n",
       "2  0.066965  0.207210  0.312713  0.276626  0.130965  0.116620  0.853279   \n",
       "3  0.061994  0.200326  0.330187  0.245903  0.103486  0.073946  0.872671   \n",
       "4  0.037338  0.124455  0.200663  0.215513  0.073235  0.061577  0.939213   \n",
       "\n",
       "   LBP_l_10  \n",
       "0  0.104824  \n",
       "1  0.070108  \n",
       "2  0.114105  \n",
       "3  0.074351  \n",
       "4  0.057705  \n",
       "\n",
       "[5 rows x 2875 columns]"
      ]
     },
     "execution_count": 2,
     "metadata": {},
     "output_type": "execute_result"
    }
   ],
   "source": [
    "TFMall = pd.read_pickle(\"/home/santi/gdrive_sanime/Compartido/LBoldu/TFMall.pkl\")\n",
    "TFMall.head()"
   ]
  },
  {
   "cell_type": "code",
   "execution_count": 3,
   "metadata": {},
   "outputs": [],
   "source": [
    "# Select only the features\n",
    "X = TFMall.iloc[:, 8:2875]\n",
    "y = TFMall['identidad']"
   ]
  },
  {
   "cell_type": "code",
   "execution_count": 7,
   "metadata": {},
   "outputs": [],
   "source": [
    "from feast import feast\n",
    "selector = feast(scale_method=\"quantile\")"
   ]
  },
  {
   "cell_type": "code",
   "execution_count": 8,
   "metadata": {},
   "outputs": [
    {
     "data": {
      "text/plain": [
       "feast(criterion='CMIM', num_of_features=20, scale_method='quantile')"
      ]
     },
     "execution_count": 8,
     "metadata": {},
     "output_type": "execute_result"
    }
   ],
   "source": [
    "selector.fit(X,y)"
   ]
  },
  {
   "cell_type": "code",
   "execution_count": 9,
   "metadata": {},
   "outputs": [
    {
     "data": {
      "text/plain": [
       "['a_S1_Kurtosis_cel',\n",
       " 'Area_nuc',\n",
       " 'Area_cel',\n",
       " 'B_S2_Correlation_cel',\n",
       " 'B_S1_Mean_nuc',\n",
       " 'Ye_S1_Energy1_cel',\n",
       " 'v_S2_CluShade_cel',\n",
       " 'a_S1_Skewness_cel',\n",
       " 'NCytratio',\n",
       " 'M_S1_Energy1_cel']"
      ]
     },
     "execution_count": 9,
     "metadata": {},
     "output_type": "execute_result"
    }
   ],
   "source": [
    "X.columns[selector.feature_indexes].tolist()[:10]"
   ]
  },
  {
   "cell_type": "code",
   "execution_count": 10,
   "metadata": {},
   "outputs": [],
   "source": [
    "import pandas as pd\n",
    "import numpy as np\n",
    "from sklearn.model_selection import train_test_split, cross_val_score, cross_val_predict\n",
    "from sklearn.discriminant_analysis import LinearDiscriminantAnalysis\n",
    "from sklearn.pipeline import Pipeline, make_pipeline, make_union\n",
    "from sklearn.metrics import confusion_matrix, classification_report, precision_score, accuracy_score \n",
    "from sklearn import preprocessing\n",
    "from sklearn import svm"
   ]
  },
  {
   "cell_type": "code",
   "execution_count": 11,
   "metadata": {},
   "outputs": [],
   "source": [
    "# Funcion para calcular y visualizar la matriz de confusion \n",
    "def plotCM(ytrue, ypred, clases=None, normalize = False, ax = None):\n",
    "    \"\"\" Funcion para calcular y visualizar la matriz de confusion\"\"\"\n",
    "    \n",
    "    if clases == None:\n",
    "        clases = list(set(ytrue))  #\n",
    "    \n",
    "    from sklearn.metrics import confusion_matrix\n",
    "    CM = confusion_matrix(ytrue,ypred, labels=clases)\n",
    "    \n",
    "    #Normaliza la matriz de confusion dividiendo cada fila por el total de verdaderos\n",
    "    if normalize:\n",
    "        CM = 100*CM / CM.sum(axis=1).reshape(-1,1) #Aprovechando el Broadcasting!\n",
    " \n",
    "    df = pd.DataFrame(CM, index=clases, columns=clases)\n",
    "    df.index.name = 'True'; df.columns.name = 'Predicted'\n",
    "    \n",
    "    import seaborn as sns\n",
    "    sns.heatmap( df, # Visualizando la matriz de confusion\n",
    "             annot=True, fmt='2.1f', cmap='ocean_r',cbar=False,square=True, annot_kws={'fontsize':16}, ax=ax )\n",
    "    \n",
    "#     plt.show()"
   ]
  },
  {
   "cell_type": "code",
   "execution_count": 32,
   "metadata": {},
   "outputs": [
    {
     "data": {
      "image/png": "[encoded data removed]",
      "text/plain": [
       "<matplotlib.figure.Figure at 0x7f2d9c71fb38>"
      ]
     },
     "metadata": {},
     "output_type": "display_data"
    }
   ],
   "source": [
    "scaler = preprocessing.StandardScaler()\n",
    "\n",
    "selector = feast(num_of_features=100)\n",
    "\n",
    "\n",
    "# LDA\n",
    "model = LinearDiscriminantAnalysis()\n",
    "\n",
    "pipe = make_pipeline(selector,scaler,model)\n",
    "\n",
    "# acc_train = cross_val_score(pipe,x_train.iloc[:,selector.feature_indexes], y_train, cv=10).mean()\n",
    "# print(\"El accuracy de CV training es: \", acc_train)\n",
    "\n",
    "y_pred = cross_val_predict(pipe, X, y, cv=5)\n",
    "\n",
    "plotCM(y, y_pred, normalize=True)"
   ]
  },
  {
   "cell_type": "code",
   "execution_count": 23,
   "metadata": {},
   "outputs": [
    {
     "data": {
      "image/png": "[encoded data removed]",
      "text/plain": [
       "<matplotlib.figure.Figure at 0x7f2d9c8a2278>"
      ]
     },
     "metadata": {},
     "output_type": "display_data"
    }
   ],
   "source": [
    "plotCM(y, y_pred, normalize=True)"
   ]
  },
  {
   "cell_type": "code",
   "execution_count": null,
   "metadata": {},
   "outputs": [],
   "source": []
  }
 ],
 "metadata": {
  "kernelspec": {
   "display_name": "Python 3",
   "language": "python",
   "name": "python3"
  },
  "language_info": {
   "codemirror_mode": {
    "name": "ipython",
    "version": 3
   },
   "file_extension": ".py",
   "mimetype": "text/x-python",
   "name": "python",
   "nbconvert_exporter": "python",
   "pygments_lexer": "ipython3",
   "version": "3.6.3"
  }
 },
 "nbformat": 4,
 "nbformat_minor": 2
}
